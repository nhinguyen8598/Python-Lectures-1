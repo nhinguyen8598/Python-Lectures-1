{
 "cells": [
  {
   "cell_type": "markdown",
   "id": "86d2cfd0",
   "metadata": {},
   "source": [
    "### IF - ELSE "
   ]
  },
  {
   "cell_type": "code",
   "execution_count": 3,
   "id": "a0c722b9",
   "metadata": {},
   "outputs": [],
   "source": [
    "# if <condition>:\n",
    "#     <do something>\n",
    "# (else :\n",
    "#     <do something else>) -> optional\n",
    "# Write a <condition> in python : <variable> <operator> <variable/value>"
   ]
  },
  {
   "cell_type": "code",
   "execution_count": 1,
   "id": "3769f843",
   "metadata": {},
   "outputs": [
    {
     "name": "stdout",
     "output_type": "stream",
     "text": [
      "You have graduated\n"
     ]
    }
   ],
   "source": [
    "gpa = 4.5\n",
    "if gpa >= 3.0:\n",
    "    print('You have graduated')\n",
    "else: \n",
    "    print('You have failed')"
   ]
  },
  {
   "cell_type": "code",
   "execution_count": 2,
   "id": "2aca910b",
   "metadata": {},
   "outputs": [
    {
     "name": "stdout",
     "output_type": "stream",
     "text": [
      "You have failed\n"
     ]
    }
   ],
   "source": [
    "gpa = 2.5\n",
    "if gpa >= 3.0:\n",
    "    print('You have graduated')\n",
    "else: \n",
    "    print('You have failed')"
   ]
  },
  {
   "cell_type": "code",
   "execution_count": 3,
   "id": "24dc4587",
   "metadata": {},
   "outputs": [],
   "source": [
    "gpa = 2.0\n",
    "if gpa >= 4.0:\n",
    "    print('You have graduated with Honour')\n",
    "elif gpa >= 3.0: #3.0 <= gpa <4\n",
    "    print('You have graduated')\n",
    "elif gpa >= 2.5:\n",
    "    print('...')\n",
    "elif gpa >= 2.0:\n",
    "     b = 10\n",
    "else: # gpa < 3\n",
    "    print('You have failed')"
   ]
  },
  {
   "cell_type": "code",
   "execution_count": 4,
   "id": "4ef53a31",
   "metadata": {},
   "outputs": [
    {
     "data": {
      "text/plain": [
       "10"
      ]
     },
     "execution_count": 4,
     "metadata": {},
     "output_type": "execute_result"
    }
   ],
   "source": [
    "b"
   ]
  },
  {
   "cell_type": "code",
   "execution_count": 5,
   "id": "d2f8d671",
   "metadata": {},
   "outputs": [
    {
     "name": "stdout",
     "output_type": "stream",
     "text": [
      "You have graduated with Honour\n",
      "You have graduated\n"
     ]
    }
   ],
   "source": [
    "gpa = 5.0\n",
    "if gpa >= 4.0:\n",
    "    print('You have graduated with Honour')\n",
    "if gpa >= 3.0:\n",
    "     print('You have graduated')\n",
    "else: \n",
    "    print('You have failed')\n",
    "    \n",
    "\n",
    "    # Lưu ý : hai câu if khác nhau"
   ]
  },
  {
   "cell_type": "markdown",
   "id": "b8e63171",
   "metadata": {},
   "source": [
    "## For"
   ]
  },
  {
   "cell_type": "code",
   "execution_count": null,
   "id": "47d6db8b",
   "metadata": {},
   "outputs": [],
   "source": [
    "# For \n",
    "# - Syntax:\n",
    "# for <element> in <iterable>:\n",
    "#       < do something>"
   ]
  },
  {
   "cell_type": "code",
   "execution_count": 3,
   "id": "a1bbe21a",
   "metadata": {},
   "outputs": [
    {
     "name": "stdout",
     "output_type": "stream",
     "text": [
      "dog\n",
      "cat\n",
      "human\n",
      "tiger\n",
      "lion\n"
     ]
    }
   ],
   "source": [
    "animal_list =['dog','cat','human','tiger','lion']\n",
    "for i in animal_list:\n",
    "    print(i)"
   ]
  },
  {
   "cell_type": "code",
   "execution_count": 7,
   "id": "976617b4",
   "metadata": {},
   "outputs": [
    {
     "name": "stdout",
     "output_type": "stream",
     "text": [
      "dog1\n",
      "cat1\n",
      "human1\n",
      "tiger1\n",
      "lion1\n"
     ]
    }
   ],
   "source": [
    "animal_list =['dog','cat','human','tiger','lion']\n",
    "for i in animal_list:\n",
    "    print(i+'1')"
   ]
  },
  {
   "cell_type": "code",
   "execution_count": 10,
   "id": "883954e8",
   "metadata": {},
   "outputs": [
    {
     "name": "stdout",
     "output_type": "stream",
     "text": [
      "dog\n",
      "cat\n",
      "dangeroushuman\n",
      "dangeroustiger\n",
      "dangerouslion\n",
      "checked\n"
     ]
    }
   ],
   "source": [
    "animal_list =['dog','cat','human','tiger','lion']\n",
    "dangerous_list = ['human','tiger','lion']\n",
    "for i in animal_list:\n",
    "    if i in dangerous_list:\n",
    "        print(\"dangerous\" + i)\n",
    "    else:\n",
    "        print(i) \n",
    "print('checked') # thực hiện giống câu lệnh bình thường sau khi kết thúc vòng lặp for \n",
    "# ( nếu print này bằng vs câu lệnh for ở trên , nó ko nằm trong for, ko nằm trong if)"
   ]
  },
  {
   "cell_type": "code",
   "execution_count": 15,
   "id": "8e26c6eb",
   "metadata": {},
   "outputs": [
    {
     "name": "stdout",
     "output_type": "stream",
     "text": [
      "0\n",
      "True\n",
      "1\n",
      "True\n",
      "2\n",
      "True\n",
      "3\n",
      "True\n",
      "4\n",
      "True\n",
      "5\n",
      "True\n",
      "6\n",
      "True\n",
      "7\n",
      "True\n",
      "8\n",
      "True\n",
      "9\n",
      "True\n"
     ]
    }
   ],
   "source": [
    "for i in range(0,10):\n",
    "    print(i)\n",
    "    print(True)"
   ]
  },
  {
   "cell_type": "code",
   "execution_count": 16,
   "id": "b9e4c70a",
   "metadata": {},
   "outputs": [
    {
     "name": "stdout",
     "output_type": "stream",
     "text": [
      "10\n",
      "True\n",
      "9\n",
      "True\n",
      "8\n",
      "True\n",
      "7\n",
      "True\n",
      "6\n",
      "True\n",
      "5\n",
      "True\n",
      "4\n",
      "True\n",
      "3\n",
      "True\n",
      "2\n",
      "True\n",
      "1\n",
      "True\n"
     ]
    }
   ],
   "source": [
    "for i in range(10,0,-1):\n",
    "    print(i)\n",
    "    print(True)"
   ]
  },
  {
   "cell_type": "markdown",
   "id": "e1aefd0a",
   "metadata": {},
   "source": [
    "### WHILE "
   ]
  },
  {
   "cell_type": "code",
   "execution_count": null,
   "id": "74dbc154",
   "metadata": {},
   "outputs": [],
   "source": [
    "# While\n",
    "# - Syntax:\n",
    "# While < condition>:\n",
    "#       < do something>\n",
    "\n",
    "# While always run faster than For but don't have any times also use While"
   ]
  },
  {
   "cell_type": "code",
   "execution_count": 1,
   "id": "74aaf35f",
   "metadata": {},
   "outputs": [
    {
     "name": "stdout",
     "output_type": "stream",
     "text": [
      "10\n",
      "True\n",
      "9\n",
      "True\n",
      "8\n",
      "True\n",
      "7\n",
      "True\n",
      "6\n",
      "True\n",
      "5\n",
      "True\n",
      "4\n",
      "True\n",
      "3\n",
      "True\n",
      "2\n",
      "True\n"
     ]
    }
   ],
   "source": [
    "x = 10 \n",
    "while x > 1:\n",
    "    print(x)\n",
    "    print(True)\n",
    "    x = x - 1 "
   ]
  },
  {
   "cell_type": "markdown",
   "id": "6e564046",
   "metadata": {},
   "source": [
    "## Function - Method\n",
    "\n",
    " hàm số : trả về 1 gtri tương ứng vs gtri của biến số đó trong hàm số đó ( tương ứng vs gtri đầu ra của biến số)\n",
    "\n",
    "hàm số trong python có thể trả về tất cả gtri ( nhưng phải tương ứng vs gtri ban đầu), \n",
    " ko có bất cứ quy định nào về việc trả về gtri gì\n",
    "\n",
    " Function and Method:\n",
    "\n",
    "name \"function\" (\"input\") (các biến đầu vào) , ứng vs 1 input thì function cho ra một output tương ứng vs gtri input đó\n",
    "\n",
    "\"method\" \"input\" name \"method\"() nó thực hiện thao tác,\n",
    "tác động, thay đổi đến input  ( kết quả mang gtr khác so vs gtri input ban đầu)\n",
    "    \n",
    "**Function's ref source** : https://www.w3schools.com/python/python_ref_functions.asp\n",
    "\n",
    "**Method's ref source** : \n",
    "  \n",
    "  *list's method* : https://www.w3schools.com/python/python_ref_list.asp\n",
    "  \n",
    "  *Dic's method* : https://www.w3schools.com/python/python_ref_dictionary.asp \n",
    " "
   ]
  },
  {
   "cell_type": "code",
   "execution_count": 17,
   "id": "20dae13a",
   "metadata": {},
   "outputs": [],
   "source": [
    "i = 123456\n",
    "x = str(i) # convert i to str"
   ]
  },
  {
   "cell_type": "code",
   "execution_count": 18,
   "id": "c1c2013d",
   "metadata": {},
   "outputs": [
    {
     "data": {
      "text/plain": [
       "'123456'"
      ]
     },
     "execution_count": 18,
     "metadata": {},
     "output_type": "execute_result"
    }
   ],
   "source": [
    "x "
   ]
  },
  {
   "cell_type": "code",
   "execution_count": 19,
   "id": "79f93c54",
   "metadata": {},
   "outputs": [],
   "source": [
    "# Viết hàm số cho riêng mình thì sdung def ( define)\n",
    "# def name_function() # số lượng biến số ko quy định\n",
    "def addition(a,b):\n",
    "    s = a + b \n",
    "    return s \n"
   ]
  },
  {
   "cell_type": "code",
   "execution_count": 20,
   "id": "414c3ef1",
   "metadata": {},
   "outputs": [
    {
     "data": {
      "text/plain": [
       "8"
      ]
     },
     "execution_count": 20,
     "metadata": {},
     "output_type": "execute_result"
    }
   ],
   "source": [
    "n = addition(3,5)\n",
    "n"
   ]
  },
  {
   "cell_type": "code",
   "execution_count": 21,
   "id": "4e831b0f",
   "metadata": {},
   "outputs": [],
   "source": [
    "# find maximum number\n",
    "def find_maximum(l):\n",
    "    x = l[0]\n",
    "    for e in l:\n",
    "        if e  > x:\n",
    "            x = e\n",
    "    return x \n",
    "    #print('True') # Lưu ý khi sdung return rồi thì tất cả lệnh phía sau ko thật hiện"
   ]
  },
  {
   "cell_type": "code",
   "execution_count": 23,
   "id": "ca9c8810",
   "metadata": {},
   "outputs": [
    {
     "data": {
      "text/plain": [
       "19"
      ]
     },
     "execution_count": 23,
     "metadata": {},
     "output_type": "execute_result"
    }
   ],
   "source": [
    "find_maximum([3,5,7,3,2,0,19,2,5])"
   ]
  },
  {
   "cell_type": "code",
   "execution_count": null,
   "id": "e713e2a0",
   "metadata": {},
   "outputs": [],
   "source": [
    "# list's Method\n",
    "# append: thêm phần tử ở phía đuôi của list\n",
    "# pop: delete phần tử ở phía đuôi của list"
   ]
  },
  {
   "cell_type": "code",
   "execution_count": 24,
   "id": "af8199da",
   "metadata": {},
   "outputs": [],
   "source": [
    "l = [1,10,'true',False,'abc']\n",
    "l.append(50)"
   ]
  },
  {
   "cell_type": "code",
   "execution_count": 25,
   "id": "b26a8cf8",
   "metadata": {},
   "outputs": [
    {
     "data": {
      "text/plain": [
       "[1, 10, 'true', False, 'abc', 50]"
      ]
     },
     "execution_count": 25,
     "metadata": {},
     "output_type": "execute_result"
    }
   ],
   "source": [
    "l"
   ]
  },
  {
   "cell_type": "code",
   "execution_count": 26,
   "id": "1bd45832",
   "metadata": {},
   "outputs": [
    {
     "data": {
      "text/plain": [
       "50"
      ]
     },
     "execution_count": 26,
     "metadata": {},
     "output_type": "execute_result"
    }
   ],
   "source": [
    "l.pop()"
   ]
  },
  {
   "cell_type": "code",
   "execution_count": 27,
   "id": "460ab1cb",
   "metadata": {},
   "outputs": [
    {
     "data": {
      "text/plain": [
       "[1, 10, 'true', False, 'abc']"
      ]
     },
     "execution_count": 27,
     "metadata": {},
     "output_type": "execute_result"
    }
   ],
   "source": [
    "l"
   ]
  },
  {
   "cell_type": "code",
   "execution_count": null,
   "id": "9cd0e495",
   "metadata": {},
   "outputs": [],
   "source": [
    "# Dic's method ( coi giống function)\n",
    "#keys()\n",
    "#items() : trả về những list tuple (keys - values)\n",
    "#values()"
   ]
  },
  {
   "cell_type": "code",
   "execution_count": 7,
   "id": "6f753cc5",
   "metadata": {},
   "outputs": [],
   "source": [
    "f = {'name':'N','gender':'F','id':'22559'}"
   ]
  },
  {
   "cell_type": "code",
   "execution_count": 32,
   "id": "3482bffd",
   "metadata": {},
   "outputs": [
    {
     "data": {
      "text/plain": [
       "dict_keys(['name', 'gender', 'id'])"
      ]
     },
     "execution_count": 32,
     "metadata": {},
     "output_type": "execute_result"
    }
   ],
   "source": [
    "f.keys()"
   ]
  },
  {
   "cell_type": "code",
   "execution_count": 33,
   "id": "b81c0a66",
   "metadata": {},
   "outputs": [
    {
     "data": {
      "text/plain": [
       "['name', 'gender', 'id']"
      ]
     },
     "execution_count": 33,
     "metadata": {},
     "output_type": "execute_result"
    }
   ],
   "source": [
    "list(f.keys())"
   ]
  },
  {
   "cell_type": "code",
   "execution_count": 34,
   "id": "34bfaed9",
   "metadata": {},
   "outputs": [
    {
     "data": {
      "text/plain": [
       "dict_values(['N', 'F', '22559'])"
      ]
     },
     "execution_count": 34,
     "metadata": {},
     "output_type": "execute_result"
    }
   ],
   "source": [
    "f.values()"
   ]
  },
  {
   "cell_type": "code",
   "execution_count": 8,
   "id": "21657b3f",
   "metadata": {},
   "outputs": [
    {
     "data": {
      "text/plain": [
       "dict_items([('name', 'N'), ('gender', 'F'), ('id', '22559')])"
      ]
     },
     "execution_count": 8,
     "metadata": {},
     "output_type": "execute_result"
    }
   ],
   "source": [
    "f.items()"
   ]
  },
  {
   "cell_type": "code",
   "execution_count": 35,
   "id": "7d6f043f",
   "metadata": {},
   "outputs": [
    {
     "data": {
      "text/plain": [
       "['N', 'F', '22559']"
      ]
     },
     "execution_count": 35,
     "metadata": {},
     "output_type": "execute_result"
    }
   ],
   "source": [
    "list(f.values())"
   ]
  },
  {
   "cell_type": "code",
   "execution_count": 36,
   "id": "0449e695",
   "metadata": {},
   "outputs": [
    {
     "data": {
      "text/plain": [
       "'N'"
      ]
     },
     "execution_count": 36,
     "metadata": {},
     "output_type": "execute_result"
    }
   ],
   "source": [
    "f[\"name\"]"
   ]
  },
  {
   "cell_type": "markdown",
   "id": "930bb539",
   "metadata": {},
   "source": [
    "## TASK"
   ]
  },
  {
   "cell_type": "code",
   "execution_count": 44,
   "id": "20f9f1b6",
   "metadata": {},
   "outputs": [],
   "source": [
    "# Write a function to get a key corresponded to the inputted value \n",
    "def get_key(d,val):\n",
    "    k = ''\n",
    "    for i in list(d.keys()):\n",
    "        if d[i] == val:\n",
    "            k = i\n",
    "    return k"
   ]
  },
  {
   "cell_type": "code",
   "execution_count": 45,
   "id": "18c2dcc5",
   "metadata": {},
   "outputs": [
    {
     "data": {
      "text/plain": [
       "'name'"
      ]
     },
     "execution_count": 45,
     "metadata": {},
     "output_type": "execute_result"
    }
   ],
   "source": [
    "d1 = {'name':'Dat','gender':'M','id':'22559'} # đây ko phải 1 đáp án hoàn hảo, chấp nhận được \n",
    "get_key(d1,'Dat')"
   ]
  },
  {
   "cell_type": "code",
   "execution_count": 46,
   "id": "52ed095f",
   "metadata": {},
   "outputs": [
    {
     "data": {
      "text/plain": [
       "''"
      ]
     },
     "execution_count": 46,
     "metadata": {},
     "output_type": "execute_result"
    }
   ],
   "source": [
    "get_key(d1,'22')"
   ]
  },
  {
   "cell_type": "code",
   "execution_count": 47,
   "id": "b214d582",
   "metadata": {},
   "outputs": [
    {
     "data": {
      "text/plain": [
       "'name_1'"
      ]
     },
     "execution_count": 47,
     "metadata": {},
     "output_type": "execute_result"
    }
   ],
   "source": [
    "d1 = {'name':'Dat','gender':'M','id':'22559','name_1':'Dat'} \n",
    "# lý do : update gtri của k, mỗi lần nó chạy để thỏa ddkien d[i] == val nó sẽ check đè gtri của k lên\n",
    "get_key(d1,'Dat')"
   ]
  },
  {
   "cell_type": "code",
   "execution_count": 48,
   "id": "b9923f6a",
   "metadata": {},
   "outputs": [],
   "source": [
    "#  a perfect answer is to list all keys\n",
    "def get_key(d,val):\n",
    "    k = []\n",
    "    for i in list(d.keys()):\n",
    "        if d[i] == val:\n",
    "            k.append(i)\n",
    "    return k"
   ]
  },
  {
   "cell_type": "code",
   "execution_count": 49,
   "id": "88dc3118",
   "metadata": {},
   "outputs": [
    {
     "data": {
      "text/plain": [
       "['name', 'name_1']"
      ]
     },
     "execution_count": 49,
     "metadata": {},
     "output_type": "execute_result"
    }
   ],
   "source": [
    "d1 = {'name':'Dat','gender':'M','id':'22559','name_1':'Dat'} \n",
    "get_key(d1,'Dat')"
   ]
  }
 ],
 "metadata": {
  "kernelspec": {
   "display_name": "Python 3 (ipykernel)",
   "language": "python",
   "name": "python3"
  },
  "language_info": {
   "codemirror_mode": {
    "name": "ipython",
    "version": 3
   },
   "file_extension": ".py",
   "mimetype": "text/x-python",
   "name": "python",
   "nbconvert_exporter": "python",
   "pygments_lexer": "ipython3",
   "version": "3.9.12"
  }
 },
 "nbformat": 4,
 "nbformat_minor": 5
}
