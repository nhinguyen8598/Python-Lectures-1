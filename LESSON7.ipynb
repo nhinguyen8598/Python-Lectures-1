{
 "cells": [
  {
   "cell_type": "raw",
   "id": "9ab18dbb",
   "metadata": {},
   "source": [
    "# Buổi số 1 \n",
    "# - Data type, data structure :\n",
    "# data tye : dạng giá trị của dữ liệu (int, float,str,datatime, boolean...)\n",
    "# data structure : cách dữ liệu được lưu trữ (tabular, non-tabular)\n",
    "# - Operators:\n",
    "# + Arithmetic operators: +, -,*,/,**,//,%\n",
    "# + Comparison  operators : >, <,>=,<=,==,!=\n",
    "# + Logical operators : and, or, in, not in\n",
    "# - Casting : Chuyển đổi 1 dạng dữ liệu sang 1 dạng dữ liệu khác (convert)\n",
    "# - Casting functions : str(); int(), float(); list();\n",
    "# - Built-in functions: print(); sum();max(),min(); range() : bộ đếm, type(): cho biết kiểu dữ liệu của biến số ý..\n",
    "# - String indexing : đi từ số bên trái đến số bên phải trừ đi 1 đơn vị. Ví dụ:\n",
    "# s = 'abc123' => s[0:2] = 'ab'"
   ]
  },
  {
   "cell_type": "raw",
   "id": "7def74e6",
   "metadata": {},
   "source": [
    "# Buổi số 2\n",
    "- If statement:\n",
    "if <condition>:\n",
    "     <do smth>\n",
    "elif <condition>:\n",
    "      <do smth>\n",
    "else:\n",
    "      <do smth>\n",
    "      \n",
    " - For Loop:\n",
    "for <element> in <iterable>:\n",
    "     <do smth>\n",
    "iterable : 1 dscah, 1 tập hợp khác nhau để duyệt ra từng phần tử khác nhau. Chúng ta có thể có list, array, range, pandas column, etc.\n",
    "\n",
    "- While Loop:\n",
    "while <condition>:\n",
    "      <do smth>\n",
    "- User - defined function : các hàm số mà người viết code tự tạo ra \n",
    "def find_max(a,b):\n",
    "    if a > b:\n",
    "       return a \n",
    "     else:\n",
    "       return b\n",
    "       \n",
    "find_max(3,5)\n",
    "\n",
    "- Method and function:\n",
    "+ Syntax:\n",
    "   function: <function>(<input>)\n",
    "   method: <input>.<method>(<params>)\n",
    "+ Purpose: method tác động lên input, function trả ra output tương ứng vs input"
   ]
  },
  {
   "cell_type": "raw",
   "id": "89dd0a8d",
   "metadata": {},
   "source": [
    "aĐ# Buổi 3 -> 6 :\n",
    "Thư viện os: https://docs.python.org/3/library/os.html\n",
    "- os.getcwd(): đường dẫn mà code đang hướng tới \n",
    "- os.chdir(): đổi đường dẫn của code (chứ ko đổi vị trí của code)\n",
    "\n",
    "Thư viện Pandas: https://pandas.pydata.org/\n",
    "- Đọc file:\n",
    "+ Excel (.xlsx): pd.read_excel(<filename>. sheet_name=...)\n",
    "+ Csv(.csv) : pd.read_csv(<filename>)\n",
    "- Xuất file:\n",
    "+ Csv(.csv) : <dataframe>.to_csv(<filename>)\n",
    "+ Excel:\n",
    "writer = pd.ExcelWriter(<filename>, engine = 'xlsxwriter')\n",
    "<dataframe>.to_excel(writer, sheet_name =..., index = False)\n",
    "writer.save()\n",
    "writer.close()\n",
    "- Methods:\n",
    "+ Delete rows : <dataframe>.drop([<list of indices>], inplace) ( về mặc cố định inplace set False nếu True thì thực hiện lên data gốc\n",
    "+  Delete columns : <dataframe>.drop([<list of columns>], axis = 1, inplace)\n",
    "+ Delete data bị trống : <dataframe>.dropna(how ='any'/'all', subset)\n",
    "+ Fill data bị trống : <dataframe>.fillna(value, method = 'bfill'/'ffill')\n",
    "+ Chọn một số dòng đầu tiên: <dataframe>.head(<number of rows>)\n",
    "+ Sắp xếp value : <dataframe>.sort_values(by = < column>/[<list_of_column>])\n",
    "ví dụ :\n",
    "age_fare_df = df[['PassengerId','Age','Fare']]\n",
    "age_fare_df.sort_values(by =['Age','Fare'], ascending = false)\n",
    "\n",
    "+ Merge (Join) dữ liệu từ các bảng lại vs nhau : <left_dataframe>.merge(<right_dataframe>, how = 'inner'/'outer'/'left'/'right', on = <identifier>)\n",
    "+ Pivot table : pd.pivot_table(<dataframe>, index, values, aggfunc, columns)"
   ]
  },
  {
   "cell_type": "raw",
   "id": "c19688ce",
   "metadata": {},
   "source": [
    "- Functions : \n",
    "+ Đọc  file : pd.read_excel; pd.read_csv\n",
    "+ Xuất file : pd.ExcelWriter\n",
    "+ Concat dữ liệu ở các bảng lại vs nhau : pd.concat([<list_of_dataframes>], ignore_index =True)"
   ]
  },
  {
   "cell_type": "code",
   "execution_count": 2,
   "id": "cd9a5d47",
   "metadata": {},
   "outputs": [
    {
     "data": {
      "text/plain": [
       "['Nguyen', 'Tuyet', 'Nhi']"
      ]
     },
     "execution_count": 2,
     "metadata": {},
     "output_type": "execute_result"
    }
   ],
   "source": [
    "# Split and join str : \n",
    "n = 'Nguyen Tuyet Nhi'\n",
    "l = n.split(' ')\n",
    "l"
   ]
  },
  {
   "cell_type": "code",
   "execution_count": 3,
   "id": "3902a460",
   "metadata": {},
   "outputs": [
    {
     "data": {
      "text/plain": [
       "'Nguyen_Tuyet_Nhi'"
      ]
     },
     "execution_count": 3,
     "metadata": {},
     "output_type": "execute_result"
    }
   ],
   "source": [
    "s = '_'.join(l)\n",
    "s"
   ]
  },
  {
   "cell_type": "code",
   "execution_count": 80,
   "id": "e39e181e",
   "metadata": {},
   "outputs": [
    {
     "data": {
      "text/plain": [
       "'ntn'"
      ]
     },
     "execution_count": 80,
     "metadata": {},
     "output_type": "execute_result"
    }
   ],
   "source": [
    "# From a list of names, return a list of initials\n",
    "def get_initials(s):\n",
    "    initial_list = []\n",
    "    for e in s.split(' '):\n",
    "        initial_list.append(e[0])\n",
    "    output = ''.join(initial_list)\n",
    "    return output\n",
    "\n",
    "get_initials('nguyen tuyet nhi') #Should return 'NTD'"
   ]
  },
  {
   "cell_type": "code",
   "execution_count": 88,
   "id": "d2603eee",
   "metadata": {},
   "outputs": [],
   "source": [
    "# Read name.xlsx into a dataframe, the create a new column named 'Initials' which contains\n",
    "# the initials of names in the 'Name' columns\n",
    "import pandas as pd \n",
    "import os "
   ]
  },
  {
   "cell_type": "code",
   "execution_count": 99,
   "id": "f8e878df",
   "metadata": {},
   "outputs": [],
   "source": [
    "os.chdir(r'C:\\Users\\Admin\\Pytraining')"
   ]
  },
  {
   "cell_type": "code",
   "execution_count": 100,
   "id": "5ec08dfe",
   "metadata": {},
   "outputs": [
    {
     "data": {
      "text/html": [
       "<div>\n",
       "<style scoped>\n",
       "    .dataframe tbody tr th:only-of-type {\n",
       "        vertical-align: middle;\n",
       "    }\n",
       "\n",
       "    .dataframe tbody tr th {\n",
       "        vertical-align: top;\n",
       "    }\n",
       "\n",
       "    .dataframe thead th {\n",
       "        text-align: right;\n",
       "    }\n",
       "</style>\n",
       "<table border=\"1\" class=\"dataframe\">\n",
       "  <thead>\n",
       "    <tr style=\"text-align: right;\">\n",
       "      <th></th>\n",
       "      <th>Name</th>\n",
       "    </tr>\n",
       "  </thead>\n",
       "  <tbody>\n",
       "    <tr>\n",
       "      <th>0</th>\n",
       "      <td>Nguyen Thanh Dat</td>\n",
       "    </tr>\n",
       "    <tr>\n",
       "      <th>1</th>\n",
       "      <td>Ho Mai Phuong</td>\n",
       "    </tr>\n",
       "    <tr>\n",
       "      <th>2</th>\n",
       "      <td>Nguyen Tuyet Nhi</td>\n",
       "    </tr>\n",
       "  </tbody>\n",
       "</table>\n",
       "</div>"
      ],
      "text/plain": [
       "               Name\n",
       "0  Nguyen Thanh Dat\n",
       "1     Ho Mai Phuong\n",
       "2  Nguyen Tuyet Nhi"
      ]
     },
     "execution_count": 100,
     "metadata": {},
     "output_type": "execute_result"
    }
   ],
   "source": [
    "df = pd.read_excel('name.xlsx', sheet_name= 'Sheet1')\n",
    "df"
   ]
  },
  {
   "cell_type": "code",
   "execution_count": 101,
   "id": "028ed9f0",
   "metadata": {},
   "outputs": [],
   "source": [
    "# Cách 1:\n",
    "l = []\n",
    "for i in range(len(df)):\n",
    "    l.append(get_initials(df['Name'][i]))\n",
    "df['Initials'] = l"
   ]
  },
  {
   "cell_type": "code",
   "execution_count": 102,
   "id": "1dab348c",
   "metadata": {},
   "outputs": [
    {
     "data": {
      "text/html": [
       "<div>\n",
       "<style scoped>\n",
       "    .dataframe tbody tr th:only-of-type {\n",
       "        vertical-align: middle;\n",
       "    }\n",
       "\n",
       "    .dataframe tbody tr th {\n",
       "        vertical-align: top;\n",
       "    }\n",
       "\n",
       "    .dataframe thead th {\n",
       "        text-align: right;\n",
       "    }\n",
       "</style>\n",
       "<table border=\"1\" class=\"dataframe\">\n",
       "  <thead>\n",
       "    <tr style=\"text-align: right;\">\n",
       "      <th></th>\n",
       "      <th>Name</th>\n",
       "      <th>Initials</th>\n",
       "    </tr>\n",
       "  </thead>\n",
       "  <tbody>\n",
       "    <tr>\n",
       "      <th>0</th>\n",
       "      <td>Nguyen Thanh Dat</td>\n",
       "      <td>NTD</td>\n",
       "    </tr>\n",
       "    <tr>\n",
       "      <th>1</th>\n",
       "      <td>Ho Mai Phuong</td>\n",
       "      <td>HMP</td>\n",
       "    </tr>\n",
       "    <tr>\n",
       "      <th>2</th>\n",
       "      <td>Nguyen Tuyet Nhi</td>\n",
       "      <td>NTN</td>\n",
       "    </tr>\n",
       "  </tbody>\n",
       "</table>\n",
       "</div>"
      ],
      "text/plain": [
       "               Name Initials\n",
       "0  Nguyen Thanh Dat      NTD\n",
       "1     Ho Mai Phuong      HMP\n",
       "2  Nguyen Tuyet Nhi      NTN"
      ]
     },
     "execution_count": 102,
     "metadata": {},
     "output_type": "execute_result"
    }
   ],
   "source": [
    "df"
   ]
  },
  {
   "cell_type": "code",
   "execution_count": 103,
   "id": "09521091",
   "metadata": {},
   "outputs": [],
   "source": [
    "# Cách 2:\n",
    "df['Initials'] = df['Name'].apply(get_initials)"
   ]
  },
  {
   "cell_type": "code",
   "execution_count": 104,
   "id": "1b7e831a",
   "metadata": {},
   "outputs": [
    {
     "data": {
      "text/html": [
       "<div>\n",
       "<style scoped>\n",
       "    .dataframe tbody tr th:only-of-type {\n",
       "        vertical-align: middle;\n",
       "    }\n",
       "\n",
       "    .dataframe tbody tr th {\n",
       "        vertical-align: top;\n",
       "    }\n",
       "\n",
       "    .dataframe thead th {\n",
       "        text-align: right;\n",
       "    }\n",
       "</style>\n",
       "<table border=\"1\" class=\"dataframe\">\n",
       "  <thead>\n",
       "    <tr style=\"text-align: right;\">\n",
       "      <th></th>\n",
       "      <th>Name</th>\n",
       "      <th>Initials</th>\n",
       "    </tr>\n",
       "  </thead>\n",
       "  <tbody>\n",
       "    <tr>\n",
       "      <th>0</th>\n",
       "      <td>Nguyen Thanh Dat</td>\n",
       "      <td>NTD</td>\n",
       "    </tr>\n",
       "    <tr>\n",
       "      <th>1</th>\n",
       "      <td>Ho Mai Phuong</td>\n",
       "      <td>HMP</td>\n",
       "    </tr>\n",
       "    <tr>\n",
       "      <th>2</th>\n",
       "      <td>Nguyen Tuyet Nhi</td>\n",
       "      <td>NTN</td>\n",
       "    </tr>\n",
       "  </tbody>\n",
       "</table>\n",
       "</div>"
      ],
      "text/plain": [
       "               Name Initials\n",
       "0  Nguyen Thanh Dat      NTD\n",
       "1     Ho Mai Phuong      HMP\n",
       "2  Nguyen Tuyet Nhi      NTN"
      ]
     },
     "execution_count": 104,
     "metadata": {},
     "output_type": "execute_result"
    }
   ],
   "source": [
    "df"
   ]
  }
 ],
 "metadata": {
  "kernelspec": {
   "display_name": "Python 3 (ipykernel)",
   "language": "python",
   "name": "python3"
  },
  "language_info": {
   "codemirror_mode": {
    "name": "ipython",
    "version": 3
   },
   "file_extension": ".py",
   "mimetype": "text/x-python",
   "name": "python",
   "nbconvert_exporter": "python",
   "pygments_lexer": "ipython3",
   "version": "3.9.12"
  }
 },
 "nbformat": 4,
 "nbformat_minor": 5
}
