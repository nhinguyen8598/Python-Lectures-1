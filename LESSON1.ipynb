{
 "cells": [
  {
   "cell_type": "markdown",
   "id": "6b7379aa",
   "metadata": {},
   "source": [
    "### ARTITHMETIC OPERATORS : TOÁN TỬ (+, -, *, /)\n",
    "\n",
    "### SPECIAL OPERATORS : TOÁN TỬ ĐẶC BIỆT \n",
    "**//** : Chia lấy phần nguyên\n",
    "\n",
    "****** : Lũy thừa ( lấy căn bậc 2 * 0.5)\n",
    "\n",
    "**%** :  Chia lấy phần dư "
   ]
  },
  {
   "cell_type": "markdown",
   "id": "dbea0fa9",
   "metadata": {},
   "source": [
    "### COMPARISON OPERATORS : TOÁN TỬ SO SÁNH (>, <, ==, <=. >=, !=)\n"
   ]
  },
  {
   "cell_type": "code",
   "execution_count": 2,
   "id": "9e3a025a",
   "metadata": {},
   "outputs": [
    {
     "name": "stdout",
     "output_type": "stream",
     "text": [
      "True\n"
     ]
    }
   ],
   "source": [
    "a = 12 \n",
    "print( a > 2)"
   ]
  },
  {
   "cell_type": "code",
   "execution_count": 4,
   "id": "a2be0e3d",
   "metadata": {},
   "outputs": [
    {
     "name": "stdout",
     "output_type": "stream",
     "text": [
      "False\n"
     ]
    }
   ],
   "source": [
    "b = 8 \n",
    "print(b > 9)"
   ]
  },
  {
   "cell_type": "markdown",
   "id": "07ae5400",
   "metadata": {},
   "source": [
    "### LOGICAL OPERATORS : TOÁN TỬ LOGIC ( AND, OR, IN , NOT IN)"
   ]
  },
  {
   "cell_type": "code",
   "execution_count": 5,
   "id": "609d2370",
   "metadata": {},
   "outputs": [
    {
     "name": "stdout",
     "output_type": "stream",
     "text": [
      "False\n"
     ]
    }
   ],
   "source": [
    "a = 10 \n",
    "b = 5 \n",
    "print((a<10) and (b<5))"
   ]
  },
  {
   "cell_type": "code",
   "execution_count": 8,
   "id": "592cc6ee",
   "metadata": {},
   "outputs": [
    {
     "name": "stdout",
     "output_type": "stream",
     "text": [
      "True\n"
     ]
    }
   ],
   "source": [
    "a = 10 \n",
    "b = 5 \n",
    "print((a<10) or (b==5))"
   ]
  },
  {
   "cell_type": "code",
   "execution_count": 9,
   "id": "1b25a8fe",
   "metadata": {},
   "outputs": [
    {
     "name": "stdout",
     "output_type": "stream",
     "text": [
      "False\n"
     ]
    }
   ],
   "source": [
    "h = 'HKT'\n",
    "g = 'm'\n",
    "print(g in h)"
   ]
  },
  {
   "cell_type": "code",
   "execution_count": 10,
   "id": "3b19a44c",
   "metadata": {},
   "outputs": [
    {
     "name": "stdout",
     "output_type": "stream",
     "text": [
      "True\n"
     ]
    }
   ],
   "source": [
    " h = 'HKT'\n",
    "g = 'm'\n",
    "print(g not in h)"
   ]
  },
  {
   "cell_type": "markdown",
   "id": "0aacb830",
   "metadata": {},
   "source": [
    "### CASTING: CONVERT A DATA TYPE TO ANOTHER  DATA TYPE "
   ]
  },
  {
   "cell_type": "code",
   "execution_count": 11,
   "id": "bc559ccd",
   "metadata": {},
   "outputs": [
    {
     "name": "stdout",
     "output_type": "stream",
     "text": [
      "<class 'int'>\n"
     ]
    }
   ],
   "source": [
    " m = 123\n",
    "print(type(m))"
   ]
  },
  {
   "cell_type": "code",
   "execution_count": 12,
   "id": "e03c16ec",
   "metadata": {},
   "outputs": [
    {
     "name": "stdout",
     "output_type": "stream",
     "text": [
      "<class 'str'>\n"
     ]
    }
   ],
   "source": [
    "m = str(m)\n",
    "print(type(m))"
   ]
  },
  {
   "cell_type": "markdown",
   "id": "6e526b79",
   "metadata": {},
   "source": [
    "### BUILT-IN DATA STRUCTURES : LIST, set, tuple, DICTIONARY\n",
    "\n",
    "**List**: 1 dsach bao gồm các phần tử khác nhau , có thể có trùng nhau, gtri trùng nhau, xuất hiện nhiều lần\n",
    "\n",
    "**tuple**: điểm đặc biệt của tuple là không được tác động đến sluong phần tử, ko được thêm bớt, ko được thay đổi các gtri của phần tử trong tuple\n",
    "\n",
    "**set** : điểm đặc biệt của set là các phần tử ko được trùng gtri nhau\n",
    "\n",
    "**Dic** : các value có thể lặp lại, các key ko đk lặp lại có duy nhất 1 key\n"
   ]
  },
  {
   "cell_type": "code",
   "execution_count": 23,
   "id": "34eca8cb",
   "metadata": {},
   "outputs": [
    {
     "data": {
      "text/plain": [
       "[1, 2, 3, 4, 5]"
      ]
     },
     "execution_count": 23,
     "metadata": {},
     "output_type": "execute_result"
    }
   ],
   "source": [
    "k = [1,2,3,4,5]\n",
    "k"
   ]
  },
  {
   "cell_type": "code",
   "execution_count": 32,
   "id": "5db6359c",
   "metadata": {},
   "outputs": [],
   "source": [
    "m = {'name': 'N', 'gender': 'F', 'CMND':'0000...'}\n"
   ]
  },
  {
   "cell_type": "code",
   "execution_count": 33,
   "id": "2b9658f4",
   "metadata": {},
   "outputs": [
    {
     "data": {
      "text/plain": [
       "{'name': 'N', 'gender': 'F', 'CMND': '0000...'}"
      ]
     },
     "execution_count": 33,
     "metadata": {},
     "output_type": "execute_result"
    }
   ],
   "source": [
    "m"
   ]
  },
  {
   "cell_type": "code",
   "execution_count": 25,
   "id": "f9ba4ac5",
   "metadata": {},
   "outputs": [
    {
     "name": "stdout",
     "output_type": "stream",
     "text": [
      "[2, 3, 4]\n"
     ]
    }
   ],
   "source": [
    "print(k[1:4]) # các element nằm ở index 1, 2, 3 "
   ]
  },
  {
   "cell_type": "code",
   "execution_count": 26,
   "id": "b4369fc9",
   "metadata": {},
   "outputs": [
    {
     "data": {
      "text/plain": [
       "['d', 'abc', True, 46, 10.5]"
      ]
     },
     "execution_count": 26,
     "metadata": {},
     "output_type": "execute_result"
    }
   ],
   "source": [
    "m = ['d', 'abc', True, 46, 10.5]"
   ]
  },
  {
   "cell_type": "code",
   "execution_count": 28,
   "id": "e40170a6",
   "metadata": {},
   "outputs": [
    {
     "data": {
      "text/plain": [
       "['abc', True, 46]"
      ]
     },
     "execution_count": 28,
     "metadata": {},
     "output_type": "execute_result"
    }
   ],
   "source": [
    "m[1:4]"
   ]
  },
  {
   "cell_type": "code",
   "execution_count": 34,
   "id": "fa39cd5e",
   "metadata": {},
   "outputs": [
    {
     "data": {
      "text/plain": [
       "'N'"
      ]
     },
     "execution_count": 34,
     "metadata": {},
     "output_type": "execute_result"
    }
   ],
   "source": [
    "m['name']"
   ]
  },
  {
   "cell_type": "code",
   "execution_count": 36,
   "id": "44fd2482",
   "metadata": {},
   "outputs": [
    {
     "data": {
      "text/plain": [
       "['M', 'F', 'Other']"
      ]
     },
     "execution_count": 36,
     "metadata": {},
     "output_type": "execute_result"
    }
   ],
   "source": [
    "n = {'gender':['M','F','Other']}\n",
    "n['gender']"
   ]
  },
  {
   "cell_type": "code",
   "execution_count": 37,
   "id": "36666cee",
   "metadata": {},
   "outputs": [
    {
     "data": {
      "text/plain": [
       "'F'"
      ]
     },
     "execution_count": 37,
     "metadata": {},
     "output_type": "execute_result"
    }
   ],
   "source": [
    "n['gender'][1]"
   ]
  },
  {
   "cell_type": "code",
   "execution_count": 39,
   "id": "2e524bd1",
   "metadata": {},
   "outputs": [
    {
     "data": {
      "text/plain": [
       "'M'"
      ]
     },
     "execution_count": 39,
     "metadata": {},
     "output_type": "execute_result"
    }
   ],
   "source": [
    "n = {'gender':{'gender_1':'M'}}\n",
    "n['gender']['gender_1']"
   ]
  }
 ],
 "metadata": {
  "kernelspec": {
   "display_name": "Python 3 (ipykernel)",
   "language": "python",
   "name": "python3"
  },
  "language_info": {
   "codemirror_mode": {
    "name": "ipython",
    "version": 3
   },
   "file_extension": ".py",
   "mimetype": "text/x-python",
   "name": "python",
   "nbconvert_exporter": "python",
   "pygments_lexer": "ipython3",
   "version": "3.9.12"
  }
 },
 "nbformat": 4,
 "nbformat_minor": 5
}
